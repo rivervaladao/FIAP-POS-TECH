{
 "cells": [
  {
   "cell_type": "markdown",
   "metadata": {},
   "source": [
    "# Fine-tuning de Modelos de Linguagem com Unsloth e LoRA\n",
    "\n",
    "Este notebook demonstra como realizar fine-tuning em modelos de linguagem usando Unsloth com LoRA (Low-Rank Adaptation) para uma implementação mais eficiente."
   ]
  },
  {
   "cell_type": "code",
   "execution_count": null,
   "metadata": {},
   "outputs": [],
   "source": [
    "!pip install unsloth[cu118] -U\n",
    "!pip install transformers datasets accelerate bitsandbytes"
   ]
  },
  {
   "cell_type": "code",
   "execution_count": null,
   "metadata": {},
   "outputs": [],
   "source": [
    "import torch\n",
    "from datasets import load_dataset\n",
    "from transformers import AutoTokenizer, AutoModelForCausalLM, TrainingArguments, Trainer\n",
    "from unsloth import FastLanguageModel\n",
    "import os\n",
    "\n",
    "# Definindo o caminho do workspace\n",
    "WORKSPACE_PATH = \"/content/drive/MyDrive/fiap/tech-challenge-03/\"\n",
    "\n",
    "# Configurações gerais\n",
    "model_name = \"meta-llama/Llama-2-7b-hf\"  # Altere para o modelo desejado\n",
    "max_length = 512\n",
    "batch_size = 4\n",
    "num_epochs = 1\n",
    "learning_rate = 2e-4"
   ]
  },
  {
   "cell_type": "code",
   "execution_count": null,
   "metadata": {},
   "outputs": [],
   "source": [
    "# Carregando o dataset\n",
    "dataset = load_dataset('json', data_files={'train': f'{WORKSPACE_PATH}trn.json'})\n",
    "dataset = dataset['train'].shuffle(seed=42).select(range(100000))  # Usando apenas 100k amostras\n",
    "\n",
    "def prepare_data(examples):\n",
    "    return {\n",
    "        'text': [f\"Title: {title}\\nContent: {content}\\nResponse:\" for title, content in zip(examples['title'], examples['content'])]\n",
    "    }\n",
    "\n",
    "dataset = dataset.map(prepare_data, batched=True, remove_columns=dataset.column_names)\n",
    "dataset = dataset.train_test_split(test_size=0.1)\n",
    "\n",
    "print(f\"Tamanho do conjunto de treinamento: {len(dataset['train'])}\")\n",
    "print(f\"Tamanho do conjunto de validação: {len(dataset['test'])}\")"
   ]
  },
  {
   "cell_type": "code",
   "execution_count": null,
   "metadata": {},
   "outputs": [],
   "source": [
    "# Configuração do modelo e tokenizador com Unsloth\n",
    "model, tokenizer = FastLanguageModel.from_pretrained(\n",
    "    model_name=model_name,\n",
    "    max_seq_length=max_length,\n",
    "    dtype=None,  # Escolhe automaticamente o melhor dtype\n",
    "    load_in_4bit=True,  # Carrega o modelo em 4-bit para economia de memória\n",
    ")\n",
    "\n",
    "# Adiciona LoRA ao modelo\n",
    "model = FastLanguageModel.get_peft_model(\n",
    "    model,\n",
    "    r=8,\n",
    "    target_modules=[\"q_proj\", \"k_proj\", \"v_proj\", \"o_proj\"],\n",
    "    lora_alpha=16,\n",
    "    lora_dropout=0.05,\n",
    "    bias=\"none\",\n",
    "    use_gradient_checkpointing=True,\n",
    "    random_state=3407,\n",
    "    use_rslora=False,  # Experimente com True para RsLoRA\n",
    ")\n",
    "\n",
    "tokenizer.pad_token = tokenizer.eos_token\n",
    "\n",
    "def tokenize_function(examples):\n",
    "    return tokenizer(examples['text'], truncation=True, padding='max_length', max_length=max_length)\n",
    "\n",
    "tokenized_datasets = dataset.map(tokenize_function, batched=True, remove_columns=['text'])"
   ]
  },
  {
   "cell_type": "code",
   "execution_count": null,
   "metadata": {},
   "outputs": [],
   "source": [
    "# Configuração do treinamento\n",
    "training_args = TrainingArguments(\n",
    "    output_dir=f'{WORKSPACE_PATH}results',\n",
    "    num_train_epochs=num_epochs,\n",
    "    per_device_train_batch_size=batch_size,\n",
    "    per_device_eval_batch_size=batch_size,\n",
    "    warmup_steps=100,\n",
    "    weight_decay=0.01,\n",
    "    logging_dir=f'{WORKSPACE_PATH}logs',\n",
    "    logging_steps=10,\n",
    "    evaluation_strategy=\"steps\",\n",
    "    eval_steps=500,\n",
    "    save_strategy=\"steps\",\n",
    "    save_steps=500,\n",
    "    load_best_model_at_end=True,\n",
    "    fp16=True,\n",
    "    gradient_accumulation_steps=8,\n",
    "    learning_rate=learning_rate,\n",
    "    remove_unused_columns=False,  # Importante para Unsloth\n",
    ")\n",
    "\n",
    "# Configurando o Trainer\n",
    "trainer = Trainer(\n",
    "    model=model,\n",
    "    args=training_args,\n",
    "    train_dataset=tokenized_datasets[\"train\"],\n",
    "    eval_dataset=tokenized_datasets[\"test\"],\n",
    ")"
   ]
  },
  {
   "cell_type": "code",
   "execution_count": null,
   "metadata": {},
   "outputs": [],
   "source": [
    "# Treinamento\n",
    "trainer.train()"
   ]
  },
  {
   "cell_type": "code",
   "execution_count": null,
   "metadata": {},
   "outputs": [],
   "source": [
    "# Salvando o modelo\n",
    "output_dir = f\"{WORKSPACE_PATH}unsloth_model_optimized\"\n",
    "trainer.save_model(output_dir)\n",
    "tokenizer.save_pretrained(output_dir)"
   ]
  },
  {
   "cell_type": "code",
   "execution_count": null,
   "metadata": {},
   "outputs": [],
   "source": [
    "# Função para gerar respostas\n",
    "def generate_response(title, content):\n",
    "    input_text = f\"Title: {title}\\nContent: {content}\\nResponse:\"\n",
    "    input_ids = tokenizer.encode(input_text, return_tensors='pt').to(model.device)\n",
    "    \n",
    "    with torch.no_grad():\n",
    "        output = model.generate(input_ids, max_length=200, num_return_sequences=1, no_repeat_ngram_size=2, top_k=50, top_p=0.95)\n",
    "    \n",
    "    generated_text = tokenizer.decode(output[0], skip_special_tokens=True)\n",
    "    response = generated_text.split('Response:')[-1].strip()\n",
    "    \n",
    "    return response\n",
    "\n",
    "# Exemplo de uso\n",
    "title = \"Smartphone de última geração\"\n",
    "content = \"Este smartphone possui câmera de alta resolução, bateria de longa duração e processador potente.\"\n",
    "response = generate_response(title, content)\n",
    "print(f\"Título: {title}\")\n",
    "print(f\"Conteúdo: {content}\")\n",
    "print(f\"Resposta gerada: {response}\")"
   ]
  }
 ],
 "metadata": {
  "kernelspec": {
   "display_name": "Python 3",
   "language": "python",
   "name": "python3"
  },
  "language_info": {
   "codemirror_mode": {
    "name": "ipython",
    "version": 3
   },
   "file_extension": ".py",
   "mimetype": "text/x-python",
   "name": "python",
   "nbconvert_exporter": "python",
   "pygments_lexer": "ipython3",
   "version": "3.8.5"
  }
 },
 "nbformat": 4,
 "nbformat_minor": 4
}

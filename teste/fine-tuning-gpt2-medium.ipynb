{
 "cells": [
  {
   "cell_type": "markdown",
   "metadata": {},
   "source": [
    "# Fine-tuning Otimizado de GPT-2 com PEFT (LoRA) no Dataset AmazonTitles-1.3MM\n",
    "\n",
    "Este notebook demonstra um processo otimizado de fine-tuning do modelo GPT-2 usando PEFT com LoRA, visando reduzir significativamente o tempo de treinamento."
   ]
  },
  {
   "cell_type": "code",
   "execution_count": null,
   "metadata": {},
   "outputs": [],
   "source": [
    "!pip install transformers datasets torch peft accelerate"
   ]
  },
  {
   "cell_type": "code",
   "execution_count": null,
   "metadata": {},
   "outputs": [],
   "source": [
    "import torch\n",
    "from datasets import load_dataset\n",
    "from transformers import GPT2Tokenizer, GPT2LMHeadModel, Trainer, TrainingArguments\n",
    "from transformers import DataCollatorForLanguageModeling\n",
    "from peft import get_peft_model, LoraConfig, TaskType, PeftModel\n",
    "from accelerate import Accelerator"
   ]
  },
  {
   "cell_type": "code",
   "execution_count": null,
   "metadata": {},
   "outputs": [],
   "source": [
    "# Carregando uma fração do dataset\n",
    "dataset = load_dataset('json', data_files={'train': 'path/to/your/dataset/trn.json'})\n",
    "dataset = dataset['train'].shuffle(seed=42).select(range(100000))  # Usando apenas 100k amostras\n",
    "\n",
    "def prepare_data(examples):\n",
    "    return {\n",
    "        'text': [f\"Title: {title}\\nContent: {content}\\nResponse:\" for title, content in zip(examples['title'], examples['content'])]\n",
    "    }\n",
    "\n",
    "dataset = dataset.map(prepare_data, batched=True, remove_columns=dataset.column_names)\n",
    "dataset = dataset.train_test_split(test_size=0.1)\n",
    "\n",
    "print(f\"Tamanho do conjunto de treinamento: {len(dataset['train'])}\")\n",
    "print(f\"Tamanho do conjunto de validação: {len(dataset['test'])}\")"
   ]
  },
  {
   "cell_type": "code",
   "execution_count": null,
   "metadata": {},
   "outputs": [],
   "source": [
    "model_name = 'gpt2'  # Usando o modelo menor 'gpt2' em vez de 'gpt2-large'\n",
    "tokenizer = GPT2Tokenizer.from_pretrained(model_name)\n",
    "model = GPT2LMHeadModel.from_pretrained(model_name)\n",
    "\n",
    "tokenizer.pad_token = tokenizer.eos_token\n",
    "\n",
    "def tokenize_function(examples):\n",
    "    return tokenizer(examples['text'], truncation=True, padding='max_length', max_length=256)  # Reduzindo max_length\n",
    "\n",
    "tokenized_datasets = dataset.map(tokenize_function, batched=True, remove_columns=['text'])\n",
    "data_collator = DataCollatorForLanguageModeling(tokenizer=tokenizer, mlm=False)"
   ]
  },
  {
   "cell_type": "code",
   "execution_count": null,
   "metadata": {},
   "outputs": [],
   "source": [
    "# Configuração otimizada do LoRA\n",
    "peft_config = LoraConfig(\n",
    "    task_type=TaskType.CAUSAL_LM,\n",
    "    inference_mode=False,\n",
    "    r=4,  # Reduzindo o rank\n",
    "    lora_alpha=16,\n",
    "    lora_dropout=0.05\n",
    ")\n",
    "\n",
    "model = get_peft_model(model, peft_config)"
   ]
  },
  {
   "cell_type": "code",
   "execution_count": null,
   "metadata": {},
   "outputs": [],
   "source": [
    "# Configuração otimizada do treinamento\n",
    "training_args = TrainingArguments(\n",
    "    output_dir='./results',\n",
    "    num_train_epochs=1,  # Reduzindo o número de épocas\n",
    "    per_device_train_batch_size=32,  # Aumentando o tamanho do batch\n",
    "    per_device_eval_batch_size=32,\n",
    "    warmup_steps=100,\n",
    "    weight_decay=0.01,\n",
    "    logging_dir='./logs',\n",
    "    logging_steps=10,\n",
    "    evaluation_strategy=\"steps\",\n",
    "    eval_steps=500,\n",
    "    save_strategy=\"steps\",\n",
    "    save_steps=500,\n",
    "    load_best_model_at_end=True,\n",
    "    fp16=True,  # Habilitando treinamento em precisão mista\n",
    "    gradient_accumulation_steps=2,\n",
    "    learning_rate=5e-4,  # Aumentando a taxa de aprendizado\n",
    ")\n",
    "\n",
    "# Inicializando o Accelerator\n",
    "accelerator = Accelerator()\n",
    "\n",
    "trainer = Trainer(\n",
    "    model=model,\n",
    "    args=training_args,\n",
    "    train_dataset=tokenized_datasets['train'],\n",
    "    eval_dataset=tokenized_datasets['test'],\n",
    "    data_collator=data_collator,\n",
    ")"
   ]
  },
  {
   "cell_type": "code",
   "execution_count": null,
   "metadata": {},
   "outputs": [],
   "source": [
    "# Treinamento\n",
    "trainer.train()"
   ]
  },
  {
   "cell_type": "code",
   "execution_count": null,
   "metadata": {},
   "outputs": [],
   "source": [
    "# Salvando o modelo\n",
    "peft_model_path = \"./peft_model_optimized\"\n",
    "trainer.model.save_pretrained(peft_model_path)\n",
    "tokenizer.save_pretrained(peft_model_path)\n",
    "\n",
    "from google.colab import files\n",
    "!zip -r peft_model_optimized.zip peft_model_optimized\n",
    "files.download('peft_model_optimized.zip')"
   ]
  },
  {
   "cell_type": "code",
   "execution_count": null,
   "metadata": {},
   "outputs": [],
   "source": [
    "# Função para gerar respostas (sem alterações)\n",
    "def generate_response(title, content):\n",
    "    input_text = f\"Title: {title}\\nContent: {content}\\nResponse:\"\n",
    "    input_ids = tokenizer.encode(input_text, return_tensors='pt')\n",
    "    \n",
    "    with torch.no_grad():\n",
    "        output = model.generate(input_ids, max_length=150, num_return_sequences=1, no_repeat_ngram_size=2, top_k=50, top_p=0.95)\n",
    "    \n",
    "    generated_text = tokenizer.decode(output[0], skip_special_tokens=True)\n",
    "    response = generated_text.split('Response:')[-1].strip()\n",
    "    \n",
    "    return response\n",
    "\n",
    "# Exemplo de uso\n",
    "title = \"Smartphone de última geração\"\n",
    "content = \"Este smartphone possui câmera de alta resolução, bateria de longa duração e processador potente.\"\n",
    "response = generate_response(title, content)\n",
    "print(f\"Título: {title}\")\n",
    "print(f\"Conteúdo: {content}\")\n",
    "print(f\"Resposta gerada: {response}\")"
   ]
  }
 ],
 "metadata": {
  "kernelspec": {
   "display_name": "Python 3",
   "language": "python",
   "name": "python3"
  },
  "language_info": {
   "codemirror_mode": {
    "name": "ipython",
    "version": 3
   },
   "file_extension": ".py",
   "mimetype": "text/x-python",
   "name": "python",
   "nbconvert_exporter": "python",
   "pygments_lexer": "ipython3",
   "version": "3.8.5"
  }
 },
 "nbformat": 4,
 "nbformat_minor": 4
}

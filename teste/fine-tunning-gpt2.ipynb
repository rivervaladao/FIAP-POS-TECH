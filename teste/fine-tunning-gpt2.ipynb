{
 "cells": [
  {
   "cell_type": "markdown",
   "metadata": {},
   "source": [
    "# Fine-tuning de GPT-2 com o Dataset AmazonTitles-1.3MM usando Hugging Face\n",
    "\n",
    "Este notebook demonstra o processo de fine-tuning do modelo GPT-2 usando o dataset AmazonTitles-1.3MM. Utilizaremos as bibliotecas Hugging Face Datasets e Transformers para este processo."
   ]
  },
  {
   "cell_type": "markdown",
   "metadata": {},
   "source": [
    "## 0. Instalação das Dependências\n",
    "\n",
    "Primeiro, vamos instalar as bibliotecas necessárias para o projeto."
   ]
  },
  {
   "cell_type": "code",
   "execution_count": null,
   "metadata": {},
   "outputs": [],
   "source": [
    "!pip install transformers datasets torch evaluate"
   ]
  },
  {
   "cell_type": "markdown",
   "metadata": {},
   "source": [
    "## 1. Importação das Bibliotecas Necessárias"
   ]
  },
  {
   "cell_type": "code",
   "execution_count": null,
   "metadata": {},
   "outputs": [],
   "source": [
    "import torch\n",
    "from datasets import load_dataset\n",
    "from transformers import GPT2Tokenizer, GPT2LMHeadModel, Trainer, TrainingArguments\n",
    "from transformers import DataCollatorForLanguageModeling"
   ]
  },
  {
   "cell_type": "markdown",
   "metadata": {},
   "source": [
    "## 2. Carregamento e Preparação do Dataset"
   ]
  },
  {
   "cell_type": "code",
   "execution_count": null,
   "metadata": {},
   "outputs": [],
   "source": [
    "# Carregando o dataset\n",
    "# Nota: Você precisará substituir 'path/to/your/dataset' pelo caminho real do seu dataset\n",
    "dataset = load_dataset('json', data_files={'train': 'path/to/your/dataset/trn.json'})\n",
    "\n",
    "# Função para preparar os dados\n",
    "def prepare_data(examples):\n",
    "    return {\n",
    "        'text': [f\"Title: {title}\\nContent: {content}\" for title, content in zip(examples['title'], examples['content'])]\n",
    "    }\n",
    "\n",
    "# Aplicando a preparação dos dados\n",
    "dataset = dataset.map(prepare_data, batched=True, remove_columns=dataset['train'].column_names)\n",
    "\n",
    "# Dividindo o dataset em treino e validação\n",
    "dataset = dataset['train'].train_test_split(test_size=0.1)\n",
    "\n",
    "print(f\"Tamanho do conjunto de treinamento: {len(dataset['train'])}\")\n",
    "print(f\"Tamanho do conjunto de validação: {len(dataset['test'])}\")"
   ]
  },
  {
   "cell_type": "markdown",
   "metadata": {},
   "source": [
    "## 3. Configuração do Modelo e Tokenizador"
   ]
  },
  {
   "cell_type": "code",
   "execution_count": null,
   "metadata": {},
   "outputs": [],
   "source": [
    "model_name = 'gpt2'\n",
    "tokenizer = GPT2Tokenizer.from_pretrained(model_name)\n",
    "model = GPT2LMHeadModel.from_pretrained(model_name)\n",
    "\n",
    "# Configurando o tokenizador\n",
    "tokenizer.pad_token = tokenizer.eos_token\n",
    "\n",
    "# Função para tokenizar os dados\n",
    "def tokenize_function(examples):\n",
    "    return tokenizer(examples['text'], truncation=True, padding='max_length', max_length=128)\n",
    "\n",
    "# Aplicando a tokenização\n",
    "tokenized_datasets = dataset.map(tokenize_function, batched=True, remove_columns=['text'])\n",
    "\n",
    "# Preparando o data collator\n",
    "data_collator = DataCollatorForLanguageModeling(tokenizer=tokenizer, mlm=False)"
   ]
  },
  {
   "cell_type": "markdown",
   "metadata": {},
   "source": [
    "## 4. Configuração do Treinamento"
   ]
  },
  {
   "cell_type": "code",
   "execution_count": null,
   "metadata": {},
   "outputs": [],
   "source": [
    "training_args = TrainingArguments(\n",
    "    output_dir='./results',\n",
    "    num_train_epochs=3,\n",
    "    per_device_train_batch_size=16,\n",
    "    per_device_eval_batch_size=16,\n",
    "    warmup_steps=500,\n",
    "    weight_decay=0.01,\n",
    "    logging_dir='./logs',\n",
    "    logging_steps=10,\n",
    "    evaluation_strategy=\"epoch\",\n",
    "    save_strategy=\"epoch\",\n",
    "    load_best_model_at_end=True,\n",
    ")\n",
    "\n",
    "trainer = Trainer(\n",
    "    model=model,\n",
    "    args=training_args,\n",
    "    train_dataset=tokenized_datasets['train'],\n",
    "    eval_dataset=tokenized_datasets['test'],\n",
    "    data_collator=data_collator,\n",
    ")"
   ]
  },
  {
   "cell_type": "markdown",
   "metadata": {},
   "source": [
    "## 5. Treinamento do Modelo"
   ]
  },
  {
   "cell_type": "code",
   "execution_count": null,
   "metadata": {},
   "outputs": [],
   "source": [
    "trainer.train()"
   ]
  },
  {
   "cell_type": "markdown",
   "metadata": {},
   "source": [
    "## 6. Salvando o Modelo"
   ]
  },
  {
   "cell_type": "code",
   "execution_count": null,
   "metadata": {},
   "outputs": [],
   "source": [
    "trainer.save_model('./fine_tuned_gpt2')\n",
    "tokenizer.save_pretrained('./fine_tuned_gpt2')\n",
    "\n",
    "# Para baixar o modelo treinado do Colab\n",
    "from google.colab import files\n",
    "!zip -r fine_tuned_gpt2.zip fine_tuned_gpt2\n",
    "files.download('fine_tuned_gpt2.zip')"
   ]
  },
  {
   "cell_type": "markdown",
   "metadata": {},
   "source": [
    "## 7. Função para Gerar Respostas"
   ]
  },
  {
   "cell_type": "code",
   "execution_count": null,
   "metadata": {},
   "outputs": [],
   "source": [
    "def generate_response(title, content):\n",
    "    input_text = f\"Title: {title}\\nContent: {content}\\nResponse:\"\n",
    "    input_ids = tokenizer.encode(input_text, return_tensors='pt')\n",
    "    \n",
    "    output = model.generate(input_ids, max_length=150, num_return_sequences=1, no_repeat_ngram_size=2, top_k=50, top_p=0.95)\n",
    "    \n",
    "    generated_text = tokenizer.decode(output[0], skip_special_tokens=True)\n",
    "    response = generated_text.split('Response:')[-1].strip()\n",
    "    \n",
    "    return response\n",
    "\n",
    "# Exemplo de uso\n",
    "title = \"Smartphone de última geração\"\n",
    "content = \"Este smartphone possui câmera de alta resolução, bateria de longa duração e processador potente.\"\n",
    "response = generate_response(title, content)\n",
    "print(f\"Título: {title}\")\n",
    "print(f\"Conteúdo: {content}\")\n",
    "print(f\"Resposta gerada: {response}\")"
   ]
  },
  {
   "cell_type": "markdown",
   "metadata": {},
   "source": [
    "## Conclusão\n",
    "\n",
    "Este notebook demonstra o processo de fine-tuning do modelo GPT-2 usando o dataset AmazonTitles-1.3MM com as bibliotecas Hugging Face. O modelo treinado pode ser usado para gerar respostas baseadas em títulos e descrições de produtos.\n",
    "\n",
    "Lembre-se de que este é um exemplo simplificado e pode ser aprimorado de várias maneiras:\n",
    "\n",
    "1. Ajuste de hiperparâmetros para melhorar o desempenho.\n",
    "2. Implementação de técnicas de regularização para evitar overfitting.\n",
    "3. Uso de GPU para acelerar o treinamento (já habilitado no Colab).\n",
    "4. Implementação de early stopping e learning rate scheduling.\n",
    "5. Experimentação com diferentes tamanhos de modelo GPT-2 (small, medium, large).\n",
    "\n",
    "Para um projeto real, considere também implementar uma avaliação mais robusta do modelo e adaptar o código conforme necessário para atender aos requisitos específicos do projeto."
   ]
  }
 ],
 "metadata": {
  "kernelspec": {
   "display_name": "Python 3",
   "language": "python",
   "name": "python3"
  },
  "language_info": {
   "codemirror_mode": {
    "name": "ipython",
    "version": 3
   },
   "file_extension": ".py",
   "mimetype": "text/x-python",
   "name": "python",
   "nbconvert_exporter": "python",
   "pygments_lexer": "ipython3",
   "version": "3.8.5"
  }
 },
 "nbformat": 4,
 "nbformat_minor": 4
}

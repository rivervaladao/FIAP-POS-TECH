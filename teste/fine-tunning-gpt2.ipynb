{
  "cells": [
    {
      "cell_type": "markdown",
      "metadata": {
        "id": "U8jifkihjHBP"
      },
      "source": [
        "# Fine-tuning de GPT-2 com PEFT (LoRA) no Dataset AmazonTitles-1.3MM\n",
        "\n",
        "Este notebook demonstra o processo de fine-tuning do modelo GPT-2 usando o método PEFT (Parameter-Efficient Fine-Tuning) com LoRA (Low-Rank Adaptation) no dataset AmazonTitles-1.3MM. Utilizaremos as bibliotecas Hugging Face Transformers, Datasets e PEFT para este processo."
      ]
    },
    {
      "cell_type": "markdown",
      "metadata": {
        "id": "ktFEFDFrjHBQ"
      },
      "source": [
        "## Instalação das Dependências\n",
        "\n",
        "Primeiro, vamos instalar as bibliotecas necessárias."
      ]
    },
    {
      "cell_type": "code",
      "execution_count": null,
      "metadata": {
        "id": "GmS25dtsjHBR"
      },
      "outputs": [],
      "source": [
        "!pip install transformers datasets torch peft accelerate"
      ]
    },
    {
      "cell_type": "code",
      "source": [
        "from google.colab import drive\n",
        "drive.mount('/content/drive')"
      ],
      "metadata": {
        "colab": {
          "base_uri": "https://localhost:8080/"
        },
        "id": "aRgnVxFtlDvz",
        "outputId": "41c80839-9470-48da-d752-10a4fa3f488c"
      },
      "execution_count": 4,
      "outputs": [
        {
          "output_type": "stream",
          "name": "stdout",
          "text": [
            "Mounted at /content/drive\n"
          ]
        }
      ]
    },
    {
      "cell_type": "markdown",
      "metadata": {
        "id": "ee7FeRCMjHBR"
      },
      "source": [
        "## Importação das Bibliotecas"
      ]
    },
    {
      "cell_type": "code",
      "execution_count": 17,
      "metadata": {
        "id": "0EwF7Mx0jHBS"
      },
      "outputs": [],
      "source": [
        "import torch\n",
        "from datasets import load_dataset, load_from_disk\n",
        "from transformers import GPT2Tokenizer, GPT2LMHeadModel, Trainer, TrainingArguments\n",
        "from transformers import DataCollatorForLanguageModeling\n",
        "from peft import get_peft_model, LoraConfig, TaskType, PeftModel\n",
        "from accelerate import Accelerator"
      ]
    },
    {
      "cell_type": "markdown",
      "metadata": {
        "id": "E_0aZXfxjHBS"
      },
      "source": [
        "## Carregamento e Preparação do Dataset\n",
        "\n",
        "Nesta seção, carregaremos o dataset AmazonTitles-1.3MM e o prepararemos para o treinamento."
      ]
    },
    {
      "cell_type": "code",
      "execution_count": 11,
      "metadata": {
        "colab": {
          "base_uri": "https://localhost:8080/"
        },
        "id": "7FUZWXGrjHBS",
        "outputId": "36781efc-5809-4faa-d494-d43bf24dff5d"
      },
      "outputs": [
        {
          "output_type": "stream",
          "name": "stdout",
          "text": [
            "Tamanho do conjunto de treinamento: 2023757\n",
            "Tamanho do conjunto de validação: 224862\n"
          ]
        }
      ],
      "source": [
        "# Carregando o dataset\n",
        "# Nota: Você precisará fazer upload do arquivo trn.json para o Colab ou usar um link para o arquivo\n",
        "dataset = load_dataset('json', data_files={'train': '/content/drive/MyDrive/fiap/tech-challenge-03/trn.json'})\n",
        "\n",
        "# Função para preparar os dados\n",
        "def prepare_data(examples):\n",
        "    return {\n",
        "        'text': [f\"Title: {title}\\nContent: {content}\\nResponse:\" for title, content in zip(examples['title'], examples['content'])]\n",
        "    }\n",
        "\n",
        "# Aplicando a preparação dos dados\n",
        "dataset = dataset.map(prepare_data, batched=True, remove_columns=dataset['train'].column_names)\n",
        "\n",
        "# Dividindo o dataset em treino e validação\n",
        "dataset = dataset['train'].train_test_split(test_size=0.1)\n",
        "\n",
        "print(f\"Tamanho do conjunto de treinamento: {len(dataset['train'])}\")\n",
        "print(f\"Tamanho do conjunto de validação: {len(dataset['test'])}\")"
      ]
    },
    {
      "cell_type": "markdown",
      "metadata": {
        "id": "wE-vGYiujHBT"
      },
      "source": [
        "## Configuração do Tokenizador"
      ]
    },
    {
      "cell_type": "code",
      "execution_count": 32,
      "metadata": {
        "id": "ioQ8lalDjHBT"
      },
      "outputs": [],
      "source": [
        "# Configurando o tokenizador\n",
        "model_name = 'gpt2'  # Usando o modelo menor 'gpt2' em vez de 'gpt2-large'\n",
        "tokenizer = AutoTokenizer.from_pretrained(model_name)\n",
        "model = AutoModelForCausalLM.from_pretrained(model_name)\n",
        "\n",
        "tokenizer.pad_token = tokenizer.eos_token\n",
        "\n",
        "# Função para tokenizar os dados\n",
        "def tokenize_function(examples):\n",
        "    return tokenizer(examples['text'], truncation=True, padding='max_length', max_length=256)\n",
        "\n",
        "# Aplicando a tokenização\n",
        "tokenized_datasets = dataset.map(tokenize_function, batched=True, remove_columns=['text'])\n"
      ]
    },
    {
      "cell_type": "markdown",
      "source": [
        "## Salvando dataset tokenizado"
      ],
      "metadata": {
        "id": "8cyIiCwtt10z"
      }
    },
    {
      "cell_type": "code",
      "source": [
        "tokenized_dataset_save_path =\"/content/drive/MyDrive/fiap/tech-challenge-03/tokenized_dataset\"\n",
        "tokenized_datasets.save_to_disk(tokenized_dataset_save_path)\n",
        "print(\"Dataset tokenizado salvo em:\", tokenized_dataset_save_path)\n"
      ],
      "metadata": {
        "id": "x2cQr-K8tS_6",
        "outputId": "897a1774-d6db-46d6-c1ec-7f8c9ed04ff2",
        "colab": {
          "base_uri": "https://localhost:8080/",
          "height": 98,
          "referenced_widgets": [
            "e0d235ee66674d9392a484c546034705",
            "528e2c2bca6841de8a07a747da9eede3",
            "d10fed101402460ca48c423a3c1f1d40",
            "4cad8edf38424d2da8bd530585858f19",
            "83390ffc41ae4b35b9e2b93f9bda60d0",
            "8770231491f24c97a21f51d060679e91",
            "205c4198a1bd41059fddcd5666a265d8",
            "9042d94a7313499db59f42189a6a0b22",
            "828115a7f6604765b8e8525809c23bc6",
            "ba39eadb26874a0ea40888b62120a2a7",
            "73a14c6d2fb3437d9261d32e4828b541",
            "7b69166d9fbc49e4819404f15d01dcc1",
            "c5846d39815a4acb9d7db618e7ce0051",
            "f958e08420fb42d28eba6a79e4db75e2",
            "aba080933189433c92f6fd76decedb8b",
            "e2443471f4a0456e91eedd6f548d53cc",
            "78dabae8daeb453c910b836d352e7ff0",
            "197fcd3283714498b87ea0b5c209d406",
            "b67921f7c1194d7bb9d227982e70a0f3",
            "3357d4e8c9d34efc9a8f70169233c5e8",
            "5249054fbd47474289103d7b05439b1b",
            "048127cd7ad54bceb1973dfbb7767b50"
          ]
        }
      },
      "execution_count": 14,
      "outputs": [
        {
          "output_type": "display_data",
          "data": {
            "text/plain": [
              "Saving the dataset (0/6 shards):   0%|          | 0/2023757 [00:00<?, ? examples/s]"
            ],
            "application/vnd.jupyter.widget-view+json": {
              "version_major": 2,
              "version_minor": 0,
              "model_id": "e0d235ee66674d9392a484c546034705"
            }
          },
          "metadata": {}
        },
        {
          "output_type": "display_data",
          "data": {
            "text/plain": [
              "Saving the dataset (0/1 shards):   0%|          | 0/224862 [00:00<?, ? examples/s]"
            ],
            "application/vnd.jupyter.widget-view+json": {
              "version_major": 2,
              "version_minor": 0,
              "model_id": "7b69166d9fbc49e4819404f15d01dcc1"
            }
          },
          "metadata": {}
        },
        {
          "output_type": "stream",
          "name": "stdout",
          "text": [
            "Dataset tokenizado salvo em: /content/drive/MyDrive/fiap/tech-challenge-03/tokenized_dataset\n"
          ]
        }
      ]
    },
    {
      "cell_type": "markdown",
      "source": [
        "\n",
        "## Carregar o dataset tokenizado\n"
      ],
      "metadata": {
        "id": "Tzxds5wkuN3f"
      }
    },
    {
      "cell_type": "code",
      "source": [
        "tokenized_dataset_save_path =\"/content/drive/MyDrive/fiap/tech-challenge-03/tokenized_dataset\"\n",
        "tokenized_dataset = load_from_disk(tokenized_dataset_save_path)\n",
        "# Preparando o data collator\n",
        "data_collator = DataCollatorForLanguageModeling(tokenizer=tokenizer, mlm=False)"
      ],
      "metadata": {
        "id": "S-TrQVaCuRiN"
      },
      "execution_count": 33,
      "outputs": []
    },
    {
      "cell_type": "markdown",
      "metadata": {
        "id": "urKW5ZvijHBT"
      },
      "source": [
        "## Configuração do Modelo e PEFT com LoRA"
      ]
    },
    {
      "cell_type": "code",
      "execution_count": 36,
      "metadata": {
        "id": "I0tOclP5jHBU"
      },
      "outputs": [],
      "source": [
        "model_name = 'gpt2'\n",
        "tokenizer = GPT2Tokenizer.from_pretrained(model_name)\n",
        "model = GPT2LMHeadModel.from_pretrained(model_name)\n",
        "\n",
        "# Configuração do LoRA\n",
        "peft_config = LoraConfig(\n",
        "    task_type=TaskType.CAUSAL_LM,\n",
        "    inference_mode=False,\n",
        "    r=6,\n",
        "    lora_alpha=32,\n",
        "    lora_dropout=0.1,\n",
        "    fan_in_fan_out=True,\n",
        ")\n",
        "\n",
        "# Aplicar PEFT ao modelo\n",
        "peft_model = get_peft_model(model, peft_config)"
      ]
    },
    {
      "cell_type": "markdown",
      "metadata": {
        "id": "aB1p_ucYjHBU"
      },
      "source": [
        "## Configuração do Treinamento"
      ]
    },
    {
      "cell_type": "code",
      "execution_count": 37,
      "metadata": {
        "id": "gA76bNxejHBU"
      },
      "outputs": [],
      "source": [
        "# Configuração otimizada do treinamento\n",
        "training_args = TrainingArguments(\n",
        "    output_dir='./results',\n",
        "    num_train_epochs=1,  # Reduzindo o número de épocas\n",
        "    per_device_train_batch_size=32,  # Aumentando o tamanho do batch\n",
        "    per_device_eval_batch_size=32,\n",
        "    warmup_steps=100,\n",
        "    weight_decay=0.01,\n",
        "    logging_dir='./logs',\n",
        "    logging_steps=10,\n",
        "    eval_strategy=\"steps\",\n",
        "    eval_steps=500,\n",
        "    save_strategy=\"steps\",\n",
        "    save_steps=500,\n",
        "    load_best_model_at_end=True,\n",
        "    fp16=True,  # Habilitando treinamento em precisão mista\n",
        "    gradient_accumulation_steps=2,\n",
        "    learning_rate=5e-4,  # Aumentando a taxa de aprendizado\n",
        "    report_to=\"none\",\n",
        "    max_steps=100,  # Aumentando o número máximo de passos\n",
        ")\n",
        "\n",
        "# Inicializando o Accelerator\n",
        "#accelerator = Accelerator()\n",
        "\n",
        "trainer = Trainer(\n",
        "    model=peft_model,\n",
        "    args=training_args,\n",
        "    train_dataset=tokenized_datasets['train'],\n",
        "    eval_dataset=tokenized_datasets['test'],\n",
        "    data_collator=data_collator,\n",
        ")"
      ]
    },
    {
      "cell_type": "markdown",
      "metadata": {
        "id": "FV9a_3AOjHBU"
      },
      "source": [
        "## Treinamento do Modelo"
      ]
    },
    {
      "cell_type": "code",
      "execution_count": 38,
      "metadata": {
        "colab": {
          "base_uri": "https://localhost:8080/",
          "height": 110
        },
        "id": "wsfb-cmZjHBU",
        "outputId": "fd4685e5-9e28-4cbb-cb44-4cae38fa9a15"
      },
      "outputs": [
        {
          "output_type": "display_data",
          "data": {
            "text/plain": [
              "<IPython.core.display.HTML object>"
            ],
            "text/html": [
              "\n",
              "    <div>\n",
              "      \n",
              "      <progress value='100' max='100' style='width:300px; height:20px; vertical-align: middle;'></progress>\n",
              "      [100/100 00:27, Epoch 0/1]\n",
              "    </div>\n",
              "    <table border=\"1\" class=\"dataframe\">\n",
              "  <thead>\n",
              " <tr style=\"text-align: left;\">\n",
              "      <th>Step</th>\n",
              "      <th>Training Loss</th>\n",
              "      <th>Validation Loss</th>\n",
              "    </tr>\n",
              "  </thead>\n",
              "  <tbody>\n",
              "  </tbody>\n",
              "</table><p>"
            ]
          },
          "metadata": {}
        },
        {
          "output_type": "execute_result",
          "data": {
            "text/plain": [
              "TrainOutput(global_step=100, training_loss=4.163296508789062, metrics={'train_runtime': 28.7715, 'train_samples_per_second': 222.442, 'train_steps_per_second': 3.476, 'total_flos': 838308829593600.0, 'train_loss': 4.163296508789062, 'epoch': 0.003162405325490568})"
            ]
          },
          "metadata": {},
          "execution_count": 38
        }
      ],
      "source": [
        "trainer.train()"
      ]
    },
    {
      "cell_type": "markdown",
      "metadata": {
        "id": "2YYqr_rVjHBV"
      },
      "source": [
        "## Salvando o Modelo"
      ]
    },
    {
      "cell_type": "code",
      "execution_count": 39,
      "metadata": {
        "colab": {
          "base_uri": "https://localhost:8080/"
        },
        "id": "3fyxWXqnjHBV",
        "outputId": "be801c4e-10d6-4594-e3bf-dcc48d87215d"
      },
      "outputs": [
        {
          "output_type": "execute_result",
          "data": {
            "text/plain": [
              "('/content/drive/MyDrive/fiap/tech-challenge-03/peft_model/tokenizer_config.json',\n",
              " '/content/drive/MyDrive/fiap/tech-challenge-03/peft_model/special_tokens_map.json',\n",
              " '/content/drive/MyDrive/fiap/tech-challenge-03/peft_model/vocab.json',\n",
              " '/content/drive/MyDrive/fiap/tech-challenge-03/peft_model/merges.txt',\n",
              " '/content/drive/MyDrive/fiap/tech-challenge-03/peft_model/added_tokens.json')"
            ]
          },
          "metadata": {},
          "execution_count": 39
        }
      ],
      "source": [
        "peft_model_path = \"/content/drive/MyDrive/fiap/tech-challenge-03/peft_model\"\n",
        "trainer.model.save_pretrained(peft_model_path)\n",
        "tokenizer.save_pretrained(peft_model_path)"
      ]
    },
    {
      "cell_type": "markdown",
      "metadata": {
        "id": "PjJ22GrnjHBV"
      },
      "source": [
        "## Carregando o Modelo para Inferência"
      ]
    },
    {
      "cell_type": "code",
      "execution_count": 41,
      "metadata": {
        "colab": {
          "base_uri": "https://localhost:8080/"
        },
        "id": "teSd0iAzjHBV",
        "outputId": "1e04cea9-5767-4f2f-b9a2-602b5329ef9c"
      },
      "outputs": [
        {
          "output_type": "execute_result",
          "data": {
            "text/plain": [
              "PeftModelForCausalLM(\n",
              "  (base_model): LoraModel(\n",
              "    (model): GPT2LMHeadModel(\n",
              "      (transformer): GPT2Model(\n",
              "        (wte): Embedding(50257, 768)\n",
              "        (wpe): Embedding(1024, 768)\n",
              "        (drop): Dropout(p=0.1, inplace=False)\n",
              "        (h): ModuleList(\n",
              "          (0-11): 12 x GPT2Block(\n",
              "            (ln_1): LayerNorm((768,), eps=1e-05, elementwise_affine=True)\n",
              "            (attn): GPT2SdpaAttention(\n",
              "              (c_attn): lora.Linear(\n",
              "                (base_layer): Conv1D(nf=2304, nx=768)\n",
              "                (lora_dropout): ModuleDict(\n",
              "                  (default): Dropout(p=0.1, inplace=False)\n",
              "                )\n",
              "                (lora_A): ModuleDict(\n",
              "                  (default): Linear(in_features=768, out_features=6, bias=False)\n",
              "                )\n",
              "                (lora_B): ModuleDict(\n",
              "                  (default): Linear(in_features=6, out_features=2304, bias=False)\n",
              "                )\n",
              "                (lora_embedding_A): ParameterDict()\n",
              "                (lora_embedding_B): ParameterDict()\n",
              "                (lora_magnitude_vector): ModuleDict()\n",
              "              )\n",
              "              (c_proj): Conv1D(nf=768, nx=768)\n",
              "              (attn_dropout): Dropout(p=0.1, inplace=False)\n",
              "              (resid_dropout): Dropout(p=0.1, inplace=False)\n",
              "            )\n",
              "            (ln_2): LayerNorm((768,), eps=1e-05, elementwise_affine=True)\n",
              "            (mlp): GPT2MLP(\n",
              "              (c_fc): Conv1D(nf=3072, nx=768)\n",
              "              (c_proj): Conv1D(nf=768, nx=3072)\n",
              "              (act): NewGELUActivation()\n",
              "              (dropout): Dropout(p=0.1, inplace=False)\n",
              "            )\n",
              "          )\n",
              "        )\n",
              "        (ln_f): LayerNorm((768,), eps=1e-05, elementwise_affine=True)\n",
              "      )\n",
              "      (lm_head): Linear(in_features=768, out_features=50257, bias=False)\n",
              "    )\n",
              "  )\n",
              ")"
            ]
          },
          "metadata": {},
          "execution_count": 41
        }
      ],
      "source": [
        "def load_peft_model(model_path):\n",
        "    # Load the PEFT configuration from your saved model path, not 'gpt2'\n",
        "    model = PeftModel.from_pretrained(GPT2LMHeadModel.from_pretrained('gpt2'), model_path)\n",
        "    return model\n",
        "\n",
        "peft_model_path = \"/content/drive/MyDrive/fiap/tech-challenge-03/peft_model\"\n",
        "model = load_peft_model(peft_model_path)\n",
        "model.eval()"
      ]
    },
    {
      "cell_type": "markdown",
      "metadata": {
        "id": "Ucul-ih7jHBV"
      },
      "source": [
        "## Função para Gerar Respostas"
      ]
    },
    {
      "cell_type": "code",
      "execution_count": 42,
      "metadata": {
        "colab": {
          "base_uri": "https://localhost:8080/"
        },
        "id": "KISOnGfmjHBV",
        "outputId": "99faf3ef-cfed-4fcb-bd65-099bdb7c587a"
      },
      "outputs": [
        {
          "output_type": "stream",
          "name": "stderr",
          "text": [
            "/usr/local/lib/python3.10/dist-packages/transformers/generation/configuration_utils.py:633: UserWarning: `do_sample` is set to `False`. However, `top_p` is set to `0.95` -- this flag is only used in sample-based generation modes. You should set `do_sample=True` or unset `top_p`.\n",
            "  warnings.warn(\n",
            "The attention mask and the pad token id were not set. As a consequence, you may observe unexpected behavior. Please pass your input's `attention_mask` to obtain reliable results.\n",
            "Setting `pad_token_id` to `eos_token_id`:50256 for open-end generation.\n",
            "The attention mask is not set and cannot be inferred from input because pad token is same as eos token. As a consequence, you may observe unexpected behavior. Please pass your input's `attention_mask` to obtain reliable results.\n"
          ]
        },
        {
          "output_type": "stream",
          "name": "stdout",
          "text": [
            "Título: Smartphone de última geração\n",
            "Conteúdo: Este smartphone possui câmera de alta resolução, bateria de longa duração e processador potente.\n",
            "Resposta gerada: response:Response : Response  Response  response response   Reply  reply  replies  responses  responds  respond  responding  responded  replied respond  answered  answers  reactions  reaction  rebuttals  rebutters  retorts  re-reply  resubmissions  reposts  comments  submissions  requests  request  requests  rejections  rejects  rejected  rejection  rejecting  refusing  refuse  refusal\n"
          ]
        }
      ],
      "source": [
        "def generate_response(title, content):\n",
        "    input_text = f\"Title: {title}\\nContent: {content}\\nResponse:\"\n",
        "    input_ids = tokenizer.encode(input_text, return_tensors='pt')\n",
        "\n",
        "    with torch.no_grad():\n",
        "        output = model.generate(input_ids, max_length=150, num_return_sequences=1, no_repeat_ngram_size=2, top_k=50, top_p=0.95)\n",
        "\n",
        "    generated_text = tokenizer.decode(output[0], skip_special_tokens=True)\n",
        "    response = generated_text.split('Response:')[-1].strip()\n",
        "\n",
        "    return response\n",
        "\n",
        "# Exemplo de uso\n",
        "title = \"Smartphone de última geração\"\n",
        "content = \"Este smartphone possui câmera de alta resolução, bateria de longa duração e processador potente.\"\n",
        "response = generate_response(title, content)\n",
        "print(f\"Título: {title}\")\n",
        "print(f\"Conteúdo: {content}\")\n",
        "print(f\"Resposta gerada: {response}\")"
      ]
    },
    {
      "cell_type": "markdown",
      "metadata": {
        "id": "4aFNdPS5jHBW"
      },
      "source": [
        "## Conclusão\n",
        "\n",
        "Este notebook demonstrou o processo de fine-tuning do modelo GPT-2 usando PEFT com LoRA no dataset AmazonTitles-1.3MM. O modelo treinado pode ser usado para gerar respostas baseadas em títulos e descrições de produtos.\n",
        "\n",
        "Pontos importantes:\n",
        "1. PEFT com LoRA permite um fine-tuning eficiente em termos de memória e computação.\n",
        "2. O modelo treinado mantém o conhecimento geral do GPT-2 enquanto se adapta à tarefa específica.\n",
        "3. O processo de treinamento é mais rápido e requer menos recursos comparado ao fine-tuning tradicional.\n",
        "4. O modelo resultante é menor em tamanho, facilitando o armazenamento e a distribuição.\n",
        "\n",
        "Para melhorar ainda mais:\n",
        "- Experimente com diferentes configurações de LoRA (r, alpha, dropout).\n",
        "- Ajuste os hiperparâmetros de treinamento para otimizar o desempenho.\n",
        "- Considere usar técnicas de avaliação mais robustas para medir a qualidade das respostas geradas."
      ]
    }
  ],
  "metadata": {
    "kernelspec": {
      "display_name": "Python 3",
      "name": "python3"
    },
    "language_info": {
      "codemirror_mode": {
        "name": "ipython",
        "version": 3
      },
      "file_extension": ".py",
      "mimetype": "text/x-python",
      "name": "python",
      "nbconvert_exporter": "python",
      "pygments_lexer": "ipython3",
      "version": "3.8.5"
    },
    "colab": {
      "provenance": [],
      "machine_shape": "hm",
      "gpuType": "A100"
    },
    "accelerator": "GPU",
    "widgets": {
      "application/vnd.jupyter.widget-state+json": {
        "e0d235ee66674d9392a484c546034705": {
          "model_module": "@jupyter-widgets/controls",
          "model_name": "HBoxModel",
          "model_module_version": "1.5.0",
          "state": {
            "_dom_classes": [],
            "_model_module": "@jupyter-widgets/controls",
            "_model_module_version": "1.5.0",
            "_model_name": "HBoxModel",
            "_view_count": null,
            "_view_module": "@jupyter-widgets/controls",
            "_view_module_version": "1.5.0",
            "_view_name": "HBoxView",
            "box_style": "",
            "children": [
              "IPY_MODEL_528e2c2bca6841de8a07a747da9eede3",
              "IPY_MODEL_d10fed101402460ca48c423a3c1f1d40",
              "IPY_MODEL_4cad8edf38424d2da8bd530585858f19"
            ],
            "layout": "IPY_MODEL_83390ffc41ae4b35b9e2b93f9bda60d0"
          }
        },
        "528e2c2bca6841de8a07a747da9eede3": {
          "model_module": "@jupyter-widgets/controls",
          "model_name": "HTMLModel",
          "model_module_version": "1.5.0",
          "state": {
            "_dom_classes": [],
            "_model_module": "@jupyter-widgets/controls",
            "_model_module_version": "1.5.0",
            "_model_name": "HTMLModel",
            "_view_count": null,
            "_view_module": "@jupyter-widgets/controls",
            "_view_module_version": "1.5.0",
            "_view_name": "HTMLView",
            "description": "",
            "description_tooltip": null,
            "layout": "IPY_MODEL_8770231491f24c97a21f51d060679e91",
            "placeholder": "​",
            "style": "IPY_MODEL_205c4198a1bd41059fddcd5666a265d8",
            "value": "Saving the dataset (6/6 shards): 100%"
          }
        },
        "d10fed101402460ca48c423a3c1f1d40": {
          "model_module": "@jupyter-widgets/controls",
          "model_name": "FloatProgressModel",
          "model_module_version": "1.5.0",
          "state": {
            "_dom_classes": [],
            "_model_module": "@jupyter-widgets/controls",
            "_model_module_version": "1.5.0",
            "_model_name": "FloatProgressModel",
            "_view_count": null,
            "_view_module": "@jupyter-widgets/controls",
            "_view_module_version": "1.5.0",
            "_view_name": "ProgressView",
            "bar_style": "success",
            "description": "",
            "description_tooltip": null,
            "layout": "IPY_MODEL_9042d94a7313499db59f42189a6a0b22",
            "max": 2023757,
            "min": 0,
            "orientation": "horizontal",
            "style": "IPY_MODEL_828115a7f6604765b8e8525809c23bc6",
            "value": 2023757
          }
        },
        "4cad8edf38424d2da8bd530585858f19": {
          "model_module": "@jupyter-widgets/controls",
          "model_name": "HTMLModel",
          "model_module_version": "1.5.0",
          "state": {
            "_dom_classes": [],
            "_model_module": "@jupyter-widgets/controls",
            "_model_module_version": "1.5.0",
            "_model_name": "HTMLModel",
            "_view_count": null,
            "_view_module": "@jupyter-widgets/controls",
            "_view_module_version": "1.5.0",
            "_view_name": "HTMLView",
            "description": "",
            "description_tooltip": null,
            "layout": "IPY_MODEL_ba39eadb26874a0ea40888b62120a2a7",
            "placeholder": "​",
            "style": "IPY_MODEL_73a14c6d2fb3437d9261d32e4828b541",
            "value": " 2023757/2023757 [00:08&lt;00:00, 297504.18 examples/s]"
          }
        },
        "83390ffc41ae4b35b9e2b93f9bda60d0": {
          "model_module": "@jupyter-widgets/base",
          "model_name": "LayoutModel",
          "model_module_version": "1.2.0",
          "state": {
            "_model_module": "@jupyter-widgets/base",
            "_model_module_version": "1.2.0",
            "_model_name": "LayoutModel",
            "_view_count": null,
            "_view_module": "@jupyter-widgets/base",
            "_view_module_version": "1.2.0",
            "_view_name": "LayoutView",
            "align_content": null,
            "align_items": null,
            "align_self": null,
            "border": null,
            "bottom": null,
            "display": null,
            "flex": null,
            "flex_flow": null,
            "grid_area": null,
            "grid_auto_columns": null,
            "grid_auto_flow": null,
            "grid_auto_rows": null,
            "grid_column": null,
            "grid_gap": null,
            "grid_row": null,
            "grid_template_areas": null,
            "grid_template_columns": null,
            "grid_template_rows": null,
            "height": null,
            "justify_content": null,
            "justify_items": null,
            "left": null,
            "margin": null,
            "max_height": null,
            "max_width": null,
            "min_height": null,
            "min_width": null,
            "object_fit": null,
            "object_position": null,
            "order": null,
            "overflow": null,
            "overflow_x": null,
            "overflow_y": null,
            "padding": null,
            "right": null,
            "top": null,
            "visibility": null,
            "width": null
          }
        },
        "8770231491f24c97a21f51d060679e91": {
          "model_module": "@jupyter-widgets/base",
          "model_name": "LayoutModel",
          "model_module_version": "1.2.0",
          "state": {
            "_model_module": "@jupyter-widgets/base",
            "_model_module_version": "1.2.0",
            "_model_name": "LayoutModel",
            "_view_count": null,
            "_view_module": "@jupyter-widgets/base",
            "_view_module_version": "1.2.0",
            "_view_name": "LayoutView",
            "align_content": null,
            "align_items": null,
            "align_self": null,
            "border": null,
            "bottom": null,
            "display": null,
            "flex": null,
            "flex_flow": null,
            "grid_area": null,
            "grid_auto_columns": null,
            "grid_auto_flow": null,
            "grid_auto_rows": null,
            "grid_column": null,
            "grid_gap": null,
            "grid_row": null,
            "grid_template_areas": null,
            "grid_template_columns": null,
            "grid_template_rows": null,
            "height": null,
            "justify_content": null,
            "justify_items": null,
            "left": null,
            "margin": null,
            "max_height": null,
            "max_width": null,
            "min_height": null,
            "min_width": null,
            "object_fit": null,
            "object_position": null,
            "order": null,
            "overflow": null,
            "overflow_x": null,
            "overflow_y": null,
            "padding": null,
            "right": null,
            "top": null,
            "visibility": null,
            "width": null
          }
        },
        "205c4198a1bd41059fddcd5666a265d8": {
          "model_module": "@jupyter-widgets/controls",
          "model_name": "DescriptionStyleModel",
          "model_module_version": "1.5.0",
          "state": {
            "_model_module": "@jupyter-widgets/controls",
            "_model_module_version": "1.5.0",
            "_model_name": "DescriptionStyleModel",
            "_view_count": null,
            "_view_module": "@jupyter-widgets/base",
            "_view_module_version": "1.2.0",
            "_view_name": "StyleView",
            "description_width": ""
          }
        },
        "9042d94a7313499db59f42189a6a0b22": {
          "model_module": "@jupyter-widgets/base",
          "model_name": "LayoutModel",
          "model_module_version": "1.2.0",
          "state": {
            "_model_module": "@jupyter-widgets/base",
            "_model_module_version": "1.2.0",
            "_model_name": "LayoutModel",
            "_view_count": null,
            "_view_module": "@jupyter-widgets/base",
            "_view_module_version": "1.2.0",
            "_view_name": "LayoutView",
            "align_content": null,
            "align_items": null,
            "align_self": null,
            "border": null,
            "bottom": null,
            "display": null,
            "flex": null,
            "flex_flow": null,
            "grid_area": null,
            "grid_auto_columns": null,
            "grid_auto_flow": null,
            "grid_auto_rows": null,
            "grid_column": null,
            "grid_gap": null,
            "grid_row": null,
            "grid_template_areas": null,
            "grid_template_columns": null,
            "grid_template_rows": null,
            "height": null,
            "justify_content": null,
            "justify_items": null,
            "left": null,
            "margin": null,
            "max_height": null,
            "max_width": null,
            "min_height": null,
            "min_width": null,
            "object_fit": null,
            "object_position": null,
            "order": null,
            "overflow": null,
            "overflow_x": null,
            "overflow_y": null,
            "padding": null,
            "right": null,
            "top": null,
            "visibility": null,
            "width": null
          }
        },
        "828115a7f6604765b8e8525809c23bc6": {
          "model_module": "@jupyter-widgets/controls",
          "model_name": "ProgressStyleModel",
          "model_module_version": "1.5.0",
          "state": {
            "_model_module": "@jupyter-widgets/controls",
            "_model_module_version": "1.5.0",
            "_model_name": "ProgressStyleModel",
            "_view_count": null,
            "_view_module": "@jupyter-widgets/base",
            "_view_module_version": "1.2.0",
            "_view_name": "StyleView",
            "bar_color": null,
            "description_width": ""
          }
        },
        "ba39eadb26874a0ea40888b62120a2a7": {
          "model_module": "@jupyter-widgets/base",
          "model_name": "LayoutModel",
          "model_module_version": "1.2.0",
          "state": {
            "_model_module": "@jupyter-widgets/base",
            "_model_module_version": "1.2.0",
            "_model_name": "LayoutModel",
            "_view_count": null,
            "_view_module": "@jupyter-widgets/base",
            "_view_module_version": "1.2.0",
            "_view_name": "LayoutView",
            "align_content": null,
            "align_items": null,
            "align_self": null,
            "border": null,
            "bottom": null,
            "display": null,
            "flex": null,
            "flex_flow": null,
            "grid_area": null,
            "grid_auto_columns": null,
            "grid_auto_flow": null,
            "grid_auto_rows": null,
            "grid_column": null,
            "grid_gap": null,
            "grid_row": null,
            "grid_template_areas": null,
            "grid_template_columns": null,
            "grid_template_rows": null,
            "height": null,
            "justify_content": null,
            "justify_items": null,
            "left": null,
            "margin": null,
            "max_height": null,
            "max_width": null,
            "min_height": null,
            "min_width": null,
            "object_fit": null,
            "object_position": null,
            "order": null,
            "overflow": null,
            "overflow_x": null,
            "overflow_y": null,
            "padding": null,
            "right": null,
            "top": null,
            "visibility": null,
            "width": null
          }
        },
        "73a14c6d2fb3437d9261d32e4828b541": {
          "model_module": "@jupyter-widgets/controls",
          "model_name": "DescriptionStyleModel",
          "model_module_version": "1.5.0",
          "state": {
            "_model_module": "@jupyter-widgets/controls",
            "_model_module_version": "1.5.0",
            "_model_name": "DescriptionStyleModel",
            "_view_count": null,
            "_view_module": "@jupyter-widgets/base",
            "_view_module_version": "1.2.0",
            "_view_name": "StyleView",
            "description_width": ""
          }
        },
        "7b69166d9fbc49e4819404f15d01dcc1": {
          "model_module": "@jupyter-widgets/controls",
          "model_name": "HBoxModel",
          "model_module_version": "1.5.0",
          "state": {
            "_dom_classes": [],
            "_model_module": "@jupyter-widgets/controls",
            "_model_module_version": "1.5.0",
            "_model_name": "HBoxModel",
            "_view_count": null,
            "_view_module": "@jupyter-widgets/controls",
            "_view_module_version": "1.5.0",
            "_view_name": "HBoxView",
            "box_style": "",
            "children": [
              "IPY_MODEL_c5846d39815a4acb9d7db618e7ce0051",
              "IPY_MODEL_f958e08420fb42d28eba6a79e4db75e2",
              "IPY_MODEL_aba080933189433c92f6fd76decedb8b"
            ],
            "layout": "IPY_MODEL_e2443471f4a0456e91eedd6f548d53cc"
          }
        },
        "c5846d39815a4acb9d7db618e7ce0051": {
          "model_module": "@jupyter-widgets/controls",
          "model_name": "HTMLModel",
          "model_module_version": "1.5.0",
          "state": {
            "_dom_classes": [],
            "_model_module": "@jupyter-widgets/controls",
            "_model_module_version": "1.5.0",
            "_model_name": "HTMLModel",
            "_view_count": null,
            "_view_module": "@jupyter-widgets/controls",
            "_view_module_version": "1.5.0",
            "_view_name": "HTMLView",
            "description": "",
            "description_tooltip": null,
            "layout": "IPY_MODEL_78dabae8daeb453c910b836d352e7ff0",
            "placeholder": "​",
            "style": "IPY_MODEL_197fcd3283714498b87ea0b5c209d406",
            "value": "Saving the dataset (1/1 shards): 100%"
          }
        },
        "f958e08420fb42d28eba6a79e4db75e2": {
          "model_module": "@jupyter-widgets/controls",
          "model_name": "FloatProgressModel",
          "model_module_version": "1.5.0",
          "state": {
            "_dom_classes": [],
            "_model_module": "@jupyter-widgets/controls",
            "_model_module_version": "1.5.0",
            "_model_name": "FloatProgressModel",
            "_view_count": null,
            "_view_module": "@jupyter-widgets/controls",
            "_view_module_version": "1.5.0",
            "_view_name": "ProgressView",
            "bar_style": "success",
            "description": "",
            "description_tooltip": null,
            "layout": "IPY_MODEL_b67921f7c1194d7bb9d227982e70a0f3",
            "max": 224862,
            "min": 0,
            "orientation": "horizontal",
            "style": "IPY_MODEL_3357d4e8c9d34efc9a8f70169233c5e8",
            "value": 224862
          }
        },
        "aba080933189433c92f6fd76decedb8b": {
          "model_module": "@jupyter-widgets/controls",
          "model_name": "HTMLModel",
          "model_module_version": "1.5.0",
          "state": {
            "_dom_classes": [],
            "_model_module": "@jupyter-widgets/controls",
            "_model_module_version": "1.5.0",
            "_model_name": "HTMLModel",
            "_view_count": null,
            "_view_module": "@jupyter-widgets/controls",
            "_view_module_version": "1.5.0",
            "_view_name": "HTMLView",
            "description": "",
            "description_tooltip": null,
            "layout": "IPY_MODEL_5249054fbd47474289103d7b05439b1b",
            "placeholder": "​",
            "style": "IPY_MODEL_048127cd7ad54bceb1973dfbb7767b50",
            "value": " 224862/224862 [00:00&lt;00:00, 331871.02 examples/s]"
          }
        },
        "e2443471f4a0456e91eedd6f548d53cc": {
          "model_module": "@jupyter-widgets/base",
          "model_name": "LayoutModel",
          "model_module_version": "1.2.0",
          "state": {
            "_model_module": "@jupyter-widgets/base",
            "_model_module_version": "1.2.0",
            "_model_name": "LayoutModel",
            "_view_count": null,
            "_view_module": "@jupyter-widgets/base",
            "_view_module_version": "1.2.0",
            "_view_name": "LayoutView",
            "align_content": null,
            "align_items": null,
            "align_self": null,
            "border": null,
            "bottom": null,
            "display": null,
            "flex": null,
            "flex_flow": null,
            "grid_area": null,
            "grid_auto_columns": null,
            "grid_auto_flow": null,
            "grid_auto_rows": null,
            "grid_column": null,
            "grid_gap": null,
            "grid_row": null,
            "grid_template_areas": null,
            "grid_template_columns": null,
            "grid_template_rows": null,
            "height": null,
            "justify_content": null,
            "justify_items": null,
            "left": null,
            "margin": null,
            "max_height": null,
            "max_width": null,
            "min_height": null,
            "min_width": null,
            "object_fit": null,
            "object_position": null,
            "order": null,
            "overflow": null,
            "overflow_x": null,
            "overflow_y": null,
            "padding": null,
            "right": null,
            "top": null,
            "visibility": null,
            "width": null
          }
        },
        "78dabae8daeb453c910b836d352e7ff0": {
          "model_module": "@jupyter-widgets/base",
          "model_name": "LayoutModel",
          "model_module_version": "1.2.0",
          "state": {
            "_model_module": "@jupyter-widgets/base",
            "_model_module_version": "1.2.0",
            "_model_name": "LayoutModel",
            "_view_count": null,
            "_view_module": "@jupyter-widgets/base",
            "_view_module_version": "1.2.0",
            "_view_name": "LayoutView",
            "align_content": null,
            "align_items": null,
            "align_self": null,
            "border": null,
            "bottom": null,
            "display": null,
            "flex": null,
            "flex_flow": null,
            "grid_area": null,
            "grid_auto_columns": null,
            "grid_auto_flow": null,
            "grid_auto_rows": null,
            "grid_column": null,
            "grid_gap": null,
            "grid_row": null,
            "grid_template_areas": null,
            "grid_template_columns": null,
            "grid_template_rows": null,
            "height": null,
            "justify_content": null,
            "justify_items": null,
            "left": null,
            "margin": null,
            "max_height": null,
            "max_width": null,
            "min_height": null,
            "min_width": null,
            "object_fit": null,
            "object_position": null,
            "order": null,
            "overflow": null,
            "overflow_x": null,
            "overflow_y": null,
            "padding": null,
            "right": null,
            "top": null,
            "visibility": null,
            "width": null
          }
        },
        "197fcd3283714498b87ea0b5c209d406": {
          "model_module": "@jupyter-widgets/controls",
          "model_name": "DescriptionStyleModel",
          "model_module_version": "1.5.0",
          "state": {
            "_model_module": "@jupyter-widgets/controls",
            "_model_module_version": "1.5.0",
            "_model_name": "DescriptionStyleModel",
            "_view_count": null,
            "_view_module": "@jupyter-widgets/base",
            "_view_module_version": "1.2.0",
            "_view_name": "StyleView",
            "description_width": ""
          }
        },
        "b67921f7c1194d7bb9d227982e70a0f3": {
          "model_module": "@jupyter-widgets/base",
          "model_name": "LayoutModel",
          "model_module_version": "1.2.0",
          "state": {
            "_model_module": "@jupyter-widgets/base",
            "_model_module_version": "1.2.0",
            "_model_name": "LayoutModel",
            "_view_count": null,
            "_view_module": "@jupyter-widgets/base",
            "_view_module_version": "1.2.0",
            "_view_name": "LayoutView",
            "align_content": null,
            "align_items": null,
            "align_self": null,
            "border": null,
            "bottom": null,
            "display": null,
            "flex": null,
            "flex_flow": null,
            "grid_area": null,
            "grid_auto_columns": null,
            "grid_auto_flow": null,
            "grid_auto_rows": null,
            "grid_column": null,
            "grid_gap": null,
            "grid_row": null,
            "grid_template_areas": null,
            "grid_template_columns": null,
            "grid_template_rows": null,
            "height": null,
            "justify_content": null,
            "justify_items": null,
            "left": null,
            "margin": null,
            "max_height": null,
            "max_width": null,
            "min_height": null,
            "min_width": null,
            "object_fit": null,
            "object_position": null,
            "order": null,
            "overflow": null,
            "overflow_x": null,
            "overflow_y": null,
            "padding": null,
            "right": null,
            "top": null,
            "visibility": null,
            "width": null
          }
        },
        "3357d4e8c9d34efc9a8f70169233c5e8": {
          "model_module": "@jupyter-widgets/controls",
          "model_name": "ProgressStyleModel",
          "model_module_version": "1.5.0",
          "state": {
            "_model_module": "@jupyter-widgets/controls",
            "_model_module_version": "1.5.0",
            "_model_name": "ProgressStyleModel",
            "_view_count": null,
            "_view_module": "@jupyter-widgets/base",
            "_view_module_version": "1.2.0",
            "_view_name": "StyleView",
            "bar_color": null,
            "description_width": ""
          }
        },
        "5249054fbd47474289103d7b05439b1b": {
          "model_module": "@jupyter-widgets/base",
          "model_name": "LayoutModel",
          "model_module_version": "1.2.0",
          "state": {
            "_model_module": "@jupyter-widgets/base",
            "_model_module_version": "1.2.0",
            "_model_name": "LayoutModel",
            "_view_count": null,
            "_view_module": "@jupyter-widgets/base",
            "_view_module_version": "1.2.0",
            "_view_name": "LayoutView",
            "align_content": null,
            "align_items": null,
            "align_self": null,
            "border": null,
            "bottom": null,
            "display": null,
            "flex": null,
            "flex_flow": null,
            "grid_area": null,
            "grid_auto_columns": null,
            "grid_auto_flow": null,
            "grid_auto_rows": null,
            "grid_column": null,
            "grid_gap": null,
            "grid_row": null,
            "grid_template_areas": null,
            "grid_template_columns": null,
            "grid_template_rows": null,
            "height": null,
            "justify_content": null,
            "justify_items": null,
            "left": null,
            "margin": null,
            "max_height": null,
            "max_width": null,
            "min_height": null,
            "min_width": null,
            "object_fit": null,
            "object_position": null,
            "order": null,
            "overflow": null,
            "overflow_x": null,
            "overflow_y": null,
            "padding": null,
            "right": null,
            "top": null,
            "visibility": null,
            "width": null
          }
        },
        "048127cd7ad54bceb1973dfbb7767b50": {
          "model_module": "@jupyter-widgets/controls",
          "model_name": "DescriptionStyleModel",
          "model_module_version": "1.5.0",
          "state": {
            "_model_module": "@jupyter-widgets/controls",
            "_model_module_version": "1.5.0",
            "_model_name": "DescriptionStyleModel",
            "_view_count": null,
            "_view_module": "@jupyter-widgets/base",
            "_view_module_version": "1.2.0",
            "_view_name": "StyleView",
            "description_width": ""
          }
        }
      }
    }
  },
  "nbformat": 4,
  "nbformat_minor": 0
}
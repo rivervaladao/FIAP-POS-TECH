{
 "cells": [
  {
   "cell_type": "markdown",
   "metadata": {},
   "source": [
    "# Fine-tuning de GPT-2 com PEFT (LoRA) no Dataset AmazonTitles-1.3MM\n",
    "\n",
    "Este notebook demonstra o processo de fine-tuning do modelo GPT-2 usando o método PEFT (Parameter-Efficient Fine-Tuning) com LoRA (Low-Rank Adaptation) no dataset AmazonTitles-1.3MM. Utilizaremos as bibliotecas Hugging Face Transformers, Datasets e PEFT para este processo."
   ]
  },
  {
   "cell_type": "markdown",
   "metadata": {},
   "source": [
    "## Instalação das Dependências\n",
    "\n",
    "Primeiro, vamos instalar as bibliotecas necessárias."
   ]
  },
  {
   "cell_type": "code",
   "execution_count": null,
   "metadata": {},
   "outputs": [],
   "source": [
    "!pip install transformers datasets torch peft"
   ]
  },
  {
   "cell_type": "markdown",
   "metadata": {},
   "source": [
    "## Importação das Bibliotecas"
   ]
  },
  {
   "cell_type": "code",
   "execution_count": null,
   "metadata": {},
   "outputs": [],
   "source": [
    "import torch\n",
    "from datasets import load_dataset\n",
    "from transformers import GPT2Tokenizer, GPT2LMHeadModel, Trainer, TrainingArguments\n",
    "from transformers import DataCollatorForLanguageModeling\n",
    "from peft import get_peft_model, LoraConfig, TaskType, PeftModel"
   ]
  },
  {
   "cell_type": "markdown",
   "metadata": {},
   "source": [
    "## Carregamento e Preparação do Dataset\n",
    "\n",
    "Nesta seção, carregaremos o dataset AmazonTitles-1.3MM e o prepararemos para o treinamento."
   ]
  },
  {
   "cell_type": "code",
   "execution_count": null,
   "metadata": {},
   "outputs": [],
   "source": [
    "# Carregando o dataset\n",
    "# Nota: Você precisará fazer upload do arquivo trn.json para o Colab ou usar um link para o arquivo\n",
    "dataset = load_dataset('json', data_files={'train': 'path/to/your/dataset/trn.json'})\n",
    "\n",
    "# Função para preparar os dados\n",
    "def prepare_data(examples):\n",
    "    return {\n",
    "        'text': [f\"Title: {title}\\nContent: {content}\\nResponse:\" for title, content in zip(examples['title'], examples['content'])]\n",
    "    }\n",
    "\n",
    "# Aplicando a preparação dos dados\n",
    "dataset = dataset.map(prepare_data, batched=True, remove_columns=dataset['train'].column_names)\n",
    "\n",
    "# Dividindo o dataset em treino e validação\n",
    "dataset = dataset['train'].train_test_split(test_size=0.1)\n",
    "\n",
    "print(f\"Tamanho do conjunto de treinamento: {len(dataset['train'])}\")\n",
    "print(f\"Tamanho do conjunto de validação: {len(dataset['test'])}\")"
   ]
  },
  {
   "cell_type": "markdown",
   "metadata": {},
   "source": [
    "## Configuração do Modelo e Tokenizador"
   ]
  },
  {
   "cell_type": "code",
   "execution_count": null,
   "metadata": {},
   "outputs": [],
   "source": [
    "model_name = 'gpt2'\n",
    "tokenizer = GPT2Tokenizer.from_pretrained(model_name)\n",
    "model = GPT2LMHeadModel.from_pretrained(model_name)\n",
    "\n",
    "# Configurando o tokenizador\n",
    "tokenizer.pad_token = tokenizer.eos_token\n",
    "\n",
    "# Função para tokenizar os dados\n",
    "def tokenize_function(examples):\n",
    "    return tokenizer(examples['text'], truncation=True, padding='max_length', max_length=512)\n",
    "\n",
    "# Aplicando a tokenização\n",
    "tokenized_datasets = dataset.map(tokenize_function, batched=True, remove_columns=['text'])\n",
    "\n",
    "# Preparando o data collator\n",
    "data_collator = DataCollatorForLanguageModeling(tokenizer=tokenizer, mlm=False)"
   ]
  },
  {
   "cell_type": "markdown",
   "metadata": {},
   "source": [
    "## Configuração do PEFT com LoRA"
   ]
  },
  {
   "cell_type": "code",
   "execution_count": null,
   "metadata": {},
   "outputs": [],
   "source": [
    "# Configuração do LoRA\n",
    "peft_config = LoraConfig(\n",
    "    task_type=TaskType.CAUSAL_LM,\n",
    "    inference_mode=False,\n",
    "    r=8,\n",
    "    lora_alpha=32,\n",
    "    lora_dropout=0.1\n",
    ")\n",
    "\n",
    "# Aplicar PEFT ao modelo\n",
    "model = get_peft_model(model, peft_config)"
   ]
  },
  {
   "cell_type": "markdown",
   "metadata": {},
   "source": [
    "## Configuração do Treinamento"
   ]
  },
  {
   "cell_type": "code",
   "execution_count": null,
   "metadata": {},
   "outputs": [],
   "source": [
    "training_args = TrainingArguments(\n",
    "    output_dir='./results',\n",
    "    num_train_epochs=3,\n",
    "    per_device_train_batch_size=4,\n",
    "    per_device_eval_batch_size=4,\n",
    "    warmup_steps=500,\n",
    "    weight_decay=0.01,\n",
    "    logging_dir='./logs',\n",
    "    logging_steps=10,\n",
    "    evaluation_strategy=\"epoch\",\n",
    "    save_strategy=\"epoch\",\n",
    "    load_best_model_at_end=True,\n",
    "    gradient_accumulation_steps=4,\n",
    ")\n",
    "\n",
    "trainer = Trainer(\n",
    "    model=model,\n",
    "    args=training_args,\n",
    "    train_dataset=tokenized_datasets['train'],\n",
    "    eval_dataset=tokenized_datasets['test'],\n",
    "    data_collator=data_collator,\n",
    ")"
   ]
  },
  {
   "cell_type": "markdown",
   "metadata": {},
   "source": [
    "## Treinamento do Modelo"
   ]
  },
  {
   "cell_type": "code",
   "execution_count": null,
   "metadata": {},
   "outputs": [],
   "source": [
    "trainer.train()"
   ]
  },
  {
   "cell_type": "markdown",
   "metadata": {},
   "source": [
    "## Salvando o Modelo"
   ]
  },
  {
   "cell_type": "code",
   "execution_count": null,
   "metadata": {},
   "outputs": [],
   "source": [
    "peft_model_path = \"./peft_model\"\n",
    "trainer.model.save_pretrained(peft_model_path)\n",
    "tokenizer.save_pretrained(peft_model_path)\n",
    "\n",
    "# Para baixar o modelo treinado do Colab\n",
    "from google.colab import files\n",
    "!zip -r peft_model.zip peft_model\n",
    "files.download('peft_model.zip')"
   ]
  },
  {
   "cell_type": "markdown",
   "metadata": {},
   "source": [
    "## Carregando o Modelo para Inferência"
   ]
  },
  {
   "cell_type": "code",
   "execution_count": null,
   "metadata": {},
   "outputs": [],
   "source": [
    "def load_peft_model(model_path):\n",
    "    config = PeftModel.from_pretrained(model_path, 'gpt2')\n",
    "    model = GPT2LMHeadModel.from_pretrained('gpt2')\n",
    "    model = PeftModel.from_pretrained(model, model_path)\n",
    "    return model\n",
    "\n",
    "model = load_peft_model(peft_model_path)\n",
    "model.eval()"
   ]
  },
  {
   "cell_type": "markdown",
   "metadata": {},
   "source": [
    "## Função para Gerar Respostas"
   ]
  },
  {
   "cell_type": "code",
   "execution_count": null,
   "metadata": {},
   "outputs": [],
   "source": [
    "def generate_response(title, content):\n",
    "    input_text = f\"Title: {title}\\nContent: {content}\\nResponse:\"\n",
    "    input_ids = tokenizer.encode(input_text, return_tensors='pt')\n",
    "    \n",
    "    with torch.no_grad():\n",
    "        output = model.generate(input_ids, max_length=150, num_return_sequences=1, no_repeat_ngram_size=2, top_k=50, top_p=0.95)\n",
    "    \n",
    "    generated_text = tokenizer.decode(output[0], skip_special_tokens=True)\n",
    "    response = generated_text.split('Response:')[-1].strip()\n",
    "    \n",
    "    return response\n",
    "\n",
    "# Exemplo de uso\n",
    "title = \"Smartphone de última geração\"\n",
    "content = \"Este smartphone possui câmera de alta resolução, bateria de longa duração e processador potente.\"\n",
    "response = generate_response(title, content)\n",
    "print(f\"Título: {title}\")\n",
    "print(f\"Conteúdo: {content}\")\n",
    "print(f\"Resposta gerada: {response}\")"
   ]
  },
  {
   "cell_type": "markdown",
   "metadata": {},
   "source": [
    "## Conclusão\n",
    "\n",
    "Este notebook demonstrou o processo de fine-tuning do modelo GPT-2 usando PEFT com LoRA no dataset AmazonTitles-1.3MM. O modelo treinado pode ser usado para gerar respostas baseadas em títulos e descrições de produtos.\n",
    "\n",
    "Pontos importantes:\n",
    "1. PEFT com LoRA permite um fine-tuning eficiente em termos de memória e computação.\n",
    "2. O modelo treinado mantém o conhecimento geral do GPT-2 enquanto se adapta à tarefa específica.\n",
    "3. O processo de treinamento é mais rápido e requer menos recursos comparado ao fine-tuning tradicional.\n",
    "4. O modelo resultante é menor em tamanho, facilitando o armazenamento e a distribuição.\n",
    "\n",
    "Para melhorar ainda mais:\n",
    "- Experimente com diferentes configurações de LoRA (r, alpha, dropout).\n",
    "- Ajuste os hiperparâmetros de treinamento para otimizar o desempenho.\n",
    "- Considere usar técnicas de avaliação mais robustas para medir a qualidade das respostas geradas."
   ]
  }
 ],
 "metadata": {
  "kernelspec": {
   "display_name": "Python 3",
   "language": "python",
   "name": "python3"
  },
  "language_info": {
   "codemirror_mode": {
    "name": "ipython",
    "version": 3
   },
   "file_extension": ".py",
   "mimetype": "text/x-python",
   "name": "python",
   "nbconvert_exporter": "python",
   "pygments_lexer": "ipython3",
   "version": "3.8.5"
  }
 },
 "nbformat": 4,
 "nbformat_minor": 4
}
